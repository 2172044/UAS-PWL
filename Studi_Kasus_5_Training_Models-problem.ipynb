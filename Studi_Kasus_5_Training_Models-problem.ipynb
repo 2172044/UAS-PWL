{
 "cells": [
  {
   "cell_type": "markdown",
   "id": "e9faebda",
   "metadata": {},
   "source": [
    "<a id=\"home\">Dalam studi kasus ini, anda akan mengimplementasi regresi linier dan melihatnya bekerja pada data. Studi kasus kali ini terdiri dari 2 bagian, yaitu:</a>\n",
    "\n",
    "1. [Part I: Operasi Matriks](#operasi-matriks)\n",
    "2. [Part II: Linear regression with one variable](#one-variable)\n",
    "3. [Part III: Normal Equation](#normal-equation)"
   ]
  },
  {
   "cell_type": "code",
   "execution_count": 4,
   "id": "b23d1b08",
   "metadata": {},
   "outputs": [],
   "source": [
    "import numpy as np"
   ]
  },
  {
   "cell_type": "code",
   "execution_count": 6,
   "id": "e62478f5",
   "metadata": {},
   "outputs": [
    {
     "name": "stdout",
     "output_type": "stream",
     "text": [
      "[[1 2]\n",
      " [1 3]\n",
      " [1 4]]\n"
     ]
    }
   ],
   "source": [
    "\n",
    "A = np.array([[1,2], [1,3], [1,4]])\n",
    "print(A)"
   ]
  },
  {
   "cell_type": "markdown",
   "id": "c467703c",
   "metadata": {},
   "source": [
    "# <a id=\"operasi-matriks\">Part I: Operasi Matriks</a> (Back to [Home](#home))"
   ]
  },
  {
   "cell_type": "markdown",
   "id": "b46de7e0",
   "metadata": {},
   "source": [
    "Diketahui matriks `A` dan vektor `b` sebagai berikut:"
   ]
  },
  {
   "cell_type": "code",
   "execution_count": 7,
   "id": "11bee2bb",
   "metadata": {},
   "outputs": [
    {
     "data": {
      "text/plain": [
       "(3, 2)"
      ]
     },
     "execution_count": 7,
     "metadata": {},
     "output_type": "execute_result"
    }
   ],
   "source": [
    "A.shape\n"
   ]
  },
  {
   "cell_type": "code",
   "execution_count": 17,
   "id": "a47cc6c6",
   "metadata": {},
   "outputs": [
    {
     "data": {
      "text/plain": [
       "2"
      ]
     },
     "execution_count": 17,
     "metadata": {},
     "output_type": "execute_result"
    }
   ],
   "source": [
    "A.ndim"
   ]
  },
  {
   "cell_type": "code",
   "execution_count": 23,
   "id": "9df6ed1a",
   "metadata": {},
   "outputs": [
    {
     "data": {
      "text/plain": [
       "array([[1],\n",
       "       [2],\n",
       "       [3]])"
      ]
     },
     "execution_count": 23,
     "metadata": {},
     "output_type": "execute_result"
    }
   ],
   "source": [
    "b = np.array([[1],[2],[3]])\n",
    "b"
   ]
  },
  {
   "cell_type": "code",
   "execution_count": 16,
   "id": "8c89c21c",
   "metadata": {},
   "outputs": [
    {
     "data": {
      "text/plain": [
       "(3, 1)"
      ]
     },
     "execution_count": 16,
     "metadata": {},
     "output_type": "execute_result"
    }
   ],
   "source": [
    "b.shape"
   ]
  },
  {
   "cell_type": "code",
   "execution_count": 19,
   "id": "847064b8",
   "metadata": {},
   "outputs": [
    {
     "data": {
      "text/plain": [
       "2"
      ]
     },
     "execution_count": 19,
     "metadata": {},
     "output_type": "execute_result"
    }
   ],
   "source": [
    "b.ndim"
   ]
  },
  {
   "cell_type": "markdown",
   "id": "321656d6",
   "metadata": {},
   "source": [
    "Kita operasikan `A` dan `b` dengan operasi `*` sbb: "
   ]
  },
  {
   "cell_type": "code",
   "execution_count": 10,
   "id": "d1f3acb1",
   "metadata": {},
   "outputs": [
    {
     "data": {
      "text/plain": [
       "array([[ 1,  2],\n",
       "       [ 2,  6],\n",
       "       [ 3, 12]])"
      ]
     },
     "execution_count": 10,
     "metadata": {},
     "output_type": "execute_result"
    }
   ],
   "source": [
    "A * b"
   ]
  },
  {
   "cell_type": "markdown",
   "id": "de555f27",
   "metadata": {},
   "source": [
    "## Pertanyaan Refleksi\n",
    "1. Apakah yang terjadi apabila `A * b`? Coba ceritakan.\n",
    "2. Apakah yang terjadi apabila `np.dot(A,b)`? Coba ceritakan.\n",
    "3. Apakah yang terjadi apabila `np.dot(b.T,A)`? Coba ceritakan.    \n",
    "4. Apakah yang terjadi apabila `b.T @ A`? Coba ceritakan.\n",
    "\n",
    "**Petunjuk**: `b.T` adalah transpose dari vektor `b`. \n",
    "\n",
    "1. setiap baris 1 pada matriks A dikali dengan baris 1 pada matriks B sampe seterusnya\n",
    "2. error, Karena pada perkalian matriks jumlah kolom pada matriks pertama harus sama dengan jumlah baris pada matriks kedua.\n",
    "3. Bisa, karena pada matriks matriks b baris 3, kolom 1. dan pada a transpost yg tadinya (3,2) menajdi (2,3)\n",
    "4. np.dot = @\n",
    "\n"
   ]
  },
  {
   "cell_type": "code",
   "execution_count": 12,
   "id": "42d755b5",
   "metadata": {},
   "outputs": [
    {
     "ename": "ValueError",
     "evalue": "shapes (3,2) and (3,1) not aligned: 2 (dim 1) != 3 (dim 0)",
     "output_type": "error",
     "traceback": [
      "\u001b[1;31m---------------------------------------------------------------------------\u001b[0m",
      "\u001b[1;31mValueError\u001b[0m                                Traceback (most recent call last)",
      "\u001b[1;32m~\\AppData\\Local\\Temp\\ipykernel_4596\\1271577116.py\u001b[0m in \u001b[0;36m<module>\u001b[1;34m\u001b[0m\n\u001b[1;32m----> 1\u001b[1;33m \u001b[0mnp\u001b[0m\u001b[1;33m.\u001b[0m\u001b[0mdot\u001b[0m\u001b[1;33m(\u001b[0m\u001b[0mA\u001b[0m\u001b[1;33m,\u001b[0m\u001b[0mb\u001b[0m\u001b[1;33m)\u001b[0m\u001b[1;33m\u001b[0m\u001b[1;33m\u001b[0m\u001b[0m\n\u001b[0m",
      "\u001b[1;32m<__array_function__ internals>\u001b[0m in \u001b[0;36mdot\u001b[1;34m(*args, **kwargs)\u001b[0m\n",
      "\u001b[1;31mValueError\u001b[0m: shapes (3,2) and (3,1) not aligned: 2 (dim 1) != 3 (dim 0)"
     ]
    }
   ],
   "source": [
    "np.dot(A,b)"
   ]
  },
  {
   "cell_type": "code",
   "execution_count": 13,
   "id": "c0630477",
   "metadata": {},
   "outputs": [
    {
     "data": {
      "text/plain": [
       "array([[ 6, 20]])"
      ]
     },
     "execution_count": 13,
     "metadata": {},
     "output_type": "execute_result"
    }
   ],
   "source": [
    "np.dot(b.T,A)"
   ]
  },
  {
   "cell_type": "code",
   "execution_count": 14,
   "id": "4ff762a7",
   "metadata": {},
   "outputs": [
    {
     "data": {
      "text/plain": [
       "array([[ 6, 20]])"
      ]
     },
     "execution_count": 14,
     "metadata": {},
     "output_type": "execute_result"
    }
   ],
   "source": [
    "b.T @ A"
   ]
  },
  {
   "cell_type": "markdown",
   "id": "44141542",
   "metadata": {},
   "source": [
    "Misalkan kita membuat vektor `c` sbb:"
   ]
  },
  {
   "cell_type": "code",
   "execution_count": 20,
   "id": "0b238d5e",
   "metadata": {},
   "outputs": [
    {
     "data": {
      "text/plain": [
       "array([1, 2, 3])"
      ]
     },
     "execution_count": 20,
     "metadata": {},
     "output_type": "execute_result"
    }
   ],
   "source": [
    "c_awal = np.array([1,2,3])\n",
    "c_awal"
   ]
  },
  {
   "cell_type": "code",
   "execution_count": 22,
   "id": "b1bff1c6",
   "metadata": {},
   "outputs": [
    {
     "data": {
      "text/plain": [
       "(3,)"
      ]
     },
     "execution_count": 22,
     "metadata": {},
     "output_type": "execute_result"
    }
   ],
   "source": [
    "c_awal.shape"
   ]
  },
  {
   "cell_type": "code",
   "execution_count": 24,
   "id": "e0748143",
   "metadata": {},
   "outputs": [
    {
     "data": {
      "text/plain": [
       "array([[1],\n",
       "       [2],\n",
       "       [3]])"
      ]
     },
     "execution_count": 24,
     "metadata": {},
     "output_type": "execute_result"
    }
   ],
   "source": [
    "c_akhir = c_awal[:, np.newaxis]\n",
    "c_akhir"
   ]
  },
  {
   "cell_type": "code",
   "execution_count": 25,
   "id": "befdaf40",
   "metadata": {},
   "outputs": [
    {
     "data": {
      "text/plain": [
       "(3,)"
      ]
     },
     "execution_count": 25,
     "metadata": {},
     "output_type": "execute_result"
    }
   ],
   "source": [
    "c_awal.shape"
   ]
  },
  {
   "cell_type": "markdown",
   "id": "bcf06ddb",
   "metadata": {},
   "source": [
    "## Pertanyaan Refleksi\n",
    "1. Berapakah dimensi dari `c_awal`?\n",
    "2. Berapakah dimensi dari `c_akhir`?"
   ]
  },
  {
   "cell_type": "markdown",
   "id": "e6c91739",
   "metadata": {},
   "source": [
    "# <a id=\"one-variable\">Part II :Linear regression with one variable</a> (Back to [Home](#home))"
   ]
  },
  {
   "cell_type": "markdown",
   "id": "9835e87a",
   "metadata": {},
   "source": [
    "![](images/food-truck.jpg)"
   ]
  },
  {
   "cell_type": "markdown",
   "id": "a81281bc",
   "metadata": {},
   "source": [
    "Pada bagian latihan ini, anda akan menerapkan regresi linier dengan satu variabel untuk memprediksi keuntungan truk makanan. Misalkan anda adalah CEO dari waralaba restoran dan sedang mempertimbangkan berbagai kota untuk membuka gerai baru. Waralaba ini sudah memiliki truk di berbagai kota dan anda memiliki data untuk keuntungan dan populasi dari kota-kota tersebut.\n",
    "\n",
    "Anda ingin menggunakan data ini untuk membantu anda memilih kota mana yang akan menjadi tujuan ekspansi bisnis berikutnya.   \n",
    "File `ex1data1.txt` berisi kumpulan data untuk masalah regresi linier kita.     \n",
    "- Kolom pertama adalah **jumlah penduduk suatu kota** dan \n",
    "- kolom kedua adalah **keuntungan dari truk makanan di kota tersebut**.    \n",
    "\n",
    "_Nilai negatif untuk keuntungan menunjukkan kerugian_."
   ]
  },
  {
   "cell_type": "markdown",
   "id": "d7ecf8b8",
   "metadata": {},
   "source": [
    "Kita import _library-library_ yang dibutuhkan. "
   ]
  },
  {
   "cell_type": "code",
   "execution_count": 43,
   "id": "4e2a65c7",
   "metadata": {},
   "outputs": [],
   "source": [
    "import matplotlib.pyplot as plt\n",
    "import numpy as np\n",
    "from matplotlib.colors import LogNorm\n",
    "from mpl_toolkits.mplot3d import axes3d, Axes3D"
   ]
  },
  {
   "cell_type": "markdown",
   "id": "f710d4f8",
   "metadata": {},
   "source": [
    "## Plot the Data \n",
    "Mari kita plot datanya terlebih dulu ya."
   ]
  },
  {
   "cell_type": "code",
   "execution_count": 63,
   "id": "1e093641",
   "metadata": {},
   "outputs": [],
   "source": [
    "def plot_data(x, y):\n",
    "    # ===================== Write Your Code Here =====================\n",
    "    # Instruksi : Plot data training menjadi gambar menggunakan matplotlib.pyplot\n",
    "    #             dengan menggunakan fungsi \"plt.scatter\". Atur label sumbu menggunakan\n",
    "    #             \"plt.xlabel\" dan \"plt.ylabel\". Asumsikan masing-masing populasi dan data pendapatan\n",
    "    #             sebagai label untuk sumbu x dan y.\n",
    "    # Hint :      Anda dapat menggunakan parameter 'marker' di fungsi \"plt.scatter\" untuk mengubah jenis marker (mis. \"x\", \"o\").\n",
    "    # Selanjutnya, anda dapat mengubah warna marker dengan parameter 'c'.\n",
    "    plt.scatter(x, y, marker='x',c='c')\n",
    "  \n",
    "\n",
    "    \n",
    "    "
   ]
  },
  {
   "cell_type": "code",
   "execution_count": 64,
   "id": "95309b8c",
   "metadata": {},
   "outputs": [
    {
     "name": "stdout",
     "output_type": "stream",
     "text": [
      "Plotting Data...\n"
     ]
    },
    {
     "data": {
      "image/png": "[encoded data removed]",
      "text/plain": [
       "<Figure size 640x480 with 1 Axes>"
      ]
     },
     "metadata": {},
     "output_type": "display_data"
    }
   ],
   "source": [
    "print('Plotting Data...')\n",
    "data = np.loadtxt('ex1data1.txt', delimiter=',', usecols=(0, 1))\n",
    "X = data[:, 0]\n",
    "y = data[:, 1]\n",
    "m = y.size\n",
    "\n",
    "plt.ion()\n",
    "plt.figure(0)\n",
    "plot_data(X, y)\n"
   ]
  },
  {
   "cell_type": "code",
   "execution_count": 76,
   "id": "81e515d7",
   "metadata": {},
   "outputs": [
    {
     "data": {
      "text/plain": [
       "1"
      ]
     },
     "execution_count": 76,
     "metadata": {},
     "output_type": "execute_result"
    }
   ],
   "source": [
    "y.ndim"
   ]
  },
  {
   "cell_type": "markdown",
   "id": "65625565",
   "metadata": {},
   "source": [
    "## Gradient Descent"
   ]
  },
  {
   "cell_type": "markdown",
   "id": "04617b5e",
   "metadata": {},
   "source": [
    "Seperti yang sudah dijelaskan di kelas, MSE _cost function_ untuk model regresi linier adalah\n",
    "\n",
    "$$\n",
    "    \\text{MSE}(\\mathbf{X}, h_\\mathbf{\\theta}) = \\frac{1}{2m} \\sum_{i=1}^{m}{(\\mathbf{\\theta}^\\intercal \\mathbf{x}^{(i)} - y^{(i)})^2} \n",
    "$$\n",
    "\n",
    "dengan   \n",
    "$m$      = jumlah training data    \n",
    "$\\mathbf{\\theta}$ = parameter model regresi linier    \n",
    "$\\mathbf{x}^{(i)}$ = training data ke-$i$     \n",
    "$y^{(i)}$ = label data ke-$i$     \n",
    "$\\mathbf{X}$ = matriks desain    \n",
    "$h_{\\theta}$ = hipotesis."
   ]
  },
  {
   "cell_type": "markdown",
   "id": "1eb21697",
   "metadata": {},
   "source": [
    "### Pertanyaan Refleksi\n",
    "1. Apakah $\\mathbf{x}^{(i)}$ merupakan vektor? Jika vektor, berapakah dimensi vektor tersebut?\n",
    "2. Apakah $y^{(i)}$ merupakan vektor? Jika vektor, berapakah dimensi vektor tersebut?\n",
    "3. Berapakah dimensi dari matriks desain, $\\mathbf{X}$?\n",
    "4. Apakah $\\theta$ merupakan vektor? Jika vektor, berapakah dimensi vektor tersebut?\n",
    "5. Apakah isi dari $h_{\\theta}$ dalam kasus ini?\n",
    "\n",
    "answer:\n",
    "1. 97,1\n",
    "2. 97.1\n",
    "3. "
   ]
  },
  {
   "cell_type": "code",
   "execution_count": 67,
   "id": "ba6e9ef3",
   "metadata": {},
   "outputs": [],
   "source": [
    "def compute_cost(X, y, theta):\n",
    "    # Initialize some useful values\n",
    "    m = y.size\n",
    "    cost = 0\n",
    "    \n",
    "\n",
    "    # ===================== Write Your Code Here =====================\n",
    "    # Instruksi : Hitung cost dari pilihan theta tertentu.\n",
    "    # Anda harus menghitung MSE cost berdasarkan formula di atas.\n",
    "    # \n",
    "    # Hint: Gunakan bentuk matriks dan perkalian matriks\n",
    "\n",
    "    hasilKali = np.dot(theta.T,X)\n",
    "    selish = hasilKali - y\n",
    "    cost = np.sum(np.square(selish)) / (2 * m)\n",
    "  \n",
    "    \n",
    "\n",
    "    return cost"
   ]
  },
  {
   "cell_type": "markdown",
   "id": "1904247d",
   "metadata": {},
   "source": [
    "Kita sudah belajar bahwa dalam algoritma batch gradient descent, setiap iterasi melakukan proses update sebagai berikut:\n",
    "\n",
    "$$\n",
    "    \\theta_j = \\theta_j - \\eta \\frac{1}{m} \\sum_{i=1}^m{(\\mathbf{\\theta}^\\intercal \\mathbf{x}^{(i)}-y^{(i)})x_j^{(i)}\n",
    "   }\n",
    "$$\n",
    "Selanjutnya, dalam bentuk matriks\n",
    "$$\n",
    "    \\theta = \\theta - \\frac{\\alpha}{m} \\times \\texttt{np.sum}(\\mathbf{X} * \\texttt{error}) \n",
    "$$\n",
    "dengan \n",
    "$$\n",
    "    \\texttt{error} = \\texttt{np.dot(X, theta).flatten() - y}\n",
    "$$\n"
   ]
  },
  {
   "cell_type": "code",
   "execution_count": null,
   "id": "4447e084",
   "metadata": {},
   "outputs": [],
   "source": [
    "def gradient_descent(X, y, theta, eta, num_iters):\n",
    "    # Inisialisasi beberapa variabel\n",
    "    m = y.size\n",
    "    MSE_history = np.zeros(num_iters)\n",
    "\n",
    "    for i in range(0, num_iters):\n",
    "        # ===================== Write Your Code Here =====================\n",
    "        # Instruksi : Lakukan satu langkah gradient descent pada parameter vektor theta\n",
    "        \n",
    "        #\n",
    "        # Hint: X.shape = (97, 2), y.shape = (97, ), theta.shape = (2, )\n",
    "        \n",
    "        # Hitunglah error\n",
    "        \n",
    "        error=np.dot(X,theta).flatten()-y\n",
    "        \n",
    "        # Hitunglah theta\n",
    "        \n",
    "        \n",
    "\n",
    "        # Hitunglah cost dengan memanggil compute_cost dengan theta yang sudah dihitung\n",
    "        # Simpan hasil perhitungan cost ke dalam J_history[i]\n",
    "        MSE_history[i] = compute_cost(X, y, theta)\n",
    "\n",
    "    return theta, MSE_history\n",
    "    "
   ]
  },
  {
   "cell_type": "code",
   "execution_count": null,
   "id": "cea83799",
   "metadata": {},
   "outputs": [],
   "source": [
    "print('Running Gradient Descent...')\n",
    "\n",
    "X = np.c_[np.ones(m), X]  # Add a column of ones to X\n",
    "theta = np.zeros(2)  # initialize fitting parameters\n",
    "\n",
    "# Some gradient descent settings\n",
    "iterations = 1500\n",
    "eta = 0.01\n",
    "\n",
    "# Compute and display initial cost\n",
    "print('Initial cost : ' + str(compute_cost(X, y, theta)) + ' (This value should be about 32.07)')\n",
    "\n",
    "theta, MSE_history = gradient_descent(X, y, theta, eta, iterations)\n",
    "\n",
    "print('Theta found by gradient descent: ' + str(theta.reshape(2)))\n",
    "\n",
    "# Plot the linear fit\n",
    "plt.figure(0)\n",
    "line1, = plt.plot(X[:, 1], np.dot(X, theta), label='Linear Regression')\n",
    "plt.scatter(data[:, 0], data[:, 1], c='r', marker=\"x\")\n",
    "plt.xlabel('population')\n",
    "plt.ylabel('profit')\n",
    "\n",
    "plt.legend(handles=[line1])"
   ]
  },
  {
   "cell_type": "code",
   "execution_count": null,
   "id": "57fd0433",
   "metadata": {},
   "outputs": [],
   "source": [
    "# Memprediksi profit untuk jumlah populasi 35,000 dan 70,000\n",
    "# Supaya bilangannya tidak terlalu besar, kita gunakan puluh ribuan, jadi 35,000 menjadi 3.5 \n",
    "predict1 = np.dot(np.array([1, 3.5]), theta)\n",
    "print('For population = 35,000, we predict a profit of {:0.3f} (This value should be about 4519.77)'.format(\n",
    "    predict1*10000))\n",
    "predict2 = np.dot(np.array([1, 7]), theta)\n",
    "print('For population = 70,000, we predict a profit of {:0.3f} (This value should be about 45342.45)'.format(\n",
    "    predict2*10000))"
   ]
  },
  {
   "cell_type": "code",
   "execution_count": null,
   "id": "56af8cd3",
   "metadata": {},
   "outputs": [],
   "source": [
    "print('Visualizing MSE(theta0, theta1) ...')\n",
    "\n",
    "theta0_vals = np.linspace(-10, 10, 100)\n",
    "theta1_vals = np.linspace(-1, 4, 100)\n",
    "\n",
    "xs, ys = np.meshgrid(theta0_vals, theta1_vals)\n",
    "MSE_vals = np.zeros(xs.shape)\n",
    "\n",
    "# Fill out MSE_vals\n",
    "for i in range(0, theta0_vals.size):\n",
    "    for j in range(0, theta1_vals.size):\n",
    "        t = np.array([theta0_vals[i], theta1_vals[j]])\n",
    "        MSE_vals[i][j] = compute_cost(X, y, t)\n",
    "\n",
    "MSE_vals = np.transpose(MSE_vals)\n",
    "\n",
    "fig1 = plt.figure(1)\n",
    "ax = fig1.add_subplot(projection='3d')\n",
    "ax.plot_surface(xs, ys, MSE_vals)\n",
    "plt.xlabel(r'$\\theta_0$')\n",
    "plt.ylabel(r'$\\theta_1$')\n",
    "\n",
    "plt.figure(2)\n",
    "lvls = np.logspace(-2, 3, 20)\n",
    "plt.contour(xs, ys, MSE_vals, levels=lvls, norm=LogNorm())\n",
    "plt.plot(theta[0], theta[1], c='r', marker=\"x\")\n",
    "plt.xlabel(r'$\\theta_0$')\n",
    "plt.ylabel(r'$\\theta_1$')"
   ]
  },
  {
   "cell_type": "markdown",
   "id": "d046e99d",
   "metadata": {},
   "source": [
    "## Pertanyaan Refleksi\n",
    "1. Di manakah kira-kira nilai $\\theta_0$ dan $\\theta_1$ di contour?\n",
    "2. Apakah yang dapat anda simpulkan mengenai posisi $\\theta_0$ dan $\\theta_1$ di contour tersebut?"
   ]
  },
  {
   "cell_type": "markdown",
   "id": "8b92c336",
   "metadata": {},
   "source": [
    "# <a id=\"normal-equation\">Part III: Normal Equation</a> (Back to [Home](#home))"
   ]
  },
  {
   "cell_type": "markdown",
   "id": "ab1a7afd",
   "metadata": {},
   "source": [
    "Dalam part III, kita akan menggunakan _Normal Equation_, yaitu:\n",
    "$$\n",
    "    \\hat{\\theta} = (\\mathbf{X}^\\intercal \\mathbf{X})^{-1} \\mathbf{X}^\\intercal \\mathbf{y} \n",
    "$$\n",
    "dengan\n",
    "- $\\hat{\\theta}$ adalah nilai $\\theta$ yang meminimumkan MSE cost function.\n",
    "- $\\mathbf{y}$ adalah vektor yang berisi nilai target dari $y^{(1)}$ sampai dengan $y^{(m)}$.\n",
    "\n",
    "untuk memprediksi harga rumah.    \n",
    "Misalkan anda menjual rumah anda dan anda ingin tahu berapa harga pasar yang bagus.    \n",
    "Salah satu cara untuk melakukan ini adalah dengan terlebih dahulu mengumpulkan informasi tentang rumah yang dijual baru-baru ini dan membuat model harga rumah.    \n",
    "\n",
    "File `ex1data2.txt` berisi harga rumah-rumah di Portland, Oregon.    \n",
    "Kolom pertama adalah ukuran rumah (dalam square feet), kolom kedua adalah jumlah kamar tidur, dan kolom ketiga adalah harga rumah."
   ]
  },
  {
   "cell_type": "code",
   "execution_count": 79,
   "id": "fcba00d2",
   "metadata": {},
   "outputs": [],
   "source": [
    "def normal_eqn(X, y):\n",
    "    theta = np.zeros((X.shape[1], 1))\n",
    "\n",
    "    # ===================== Write Your Code Here =====================\n",
    "    # Instruksi : Lengkapi kode untuk menghitung theta dengan menggunakan\n",
    "    #                persamaan di atas kemudian hasilnya disimpan dalam theta\n",
    "    \n",
    "    #\n",
    "   \n",
    "    invers=np.linalg.inv(np.dot(X.T,X))\n",
    "    theta=np.dot((np.dot(invers,X.T)),y)\n",
    "    \n",
    "\n",
    "    return theta"
   ]
  },
  {
   "cell_type": "code",
   "execution_count": 81,
   "id": "f6ba3bf1",
   "metadata": {},
   "outputs": [
    {
     "name": "stdout",
     "output_type": "stream",
     "text": [
      "Solving with normal equations ...\n",
      "Theta computed from the normal equations : \n",
      "[89597.9095428    139.21067402 -8738.01911233]\n"
     ]
    },
    {
     "ename": "ValueError",
     "evalue": "shapes (2,) and (3,) not aligned: 2 (dim 0) != 3 (dim 0)",
     "output_type": "error",
     "traceback": [
      "\u001b[1;31m---------------------------------------------------------------------------\u001b[0m",
      "\u001b[1;31mValueError\u001b[0m                                Traceback (most recent call last)",
      "\u001b[1;32m~\\AppData\\Local\\Temp\\ipykernel_4596\\2451930743.py\u001b[0m in \u001b[0;36m<module>\u001b[1;34m\u001b[0m\n\u001b[0;32m     19\u001b[0m \u001b[1;31m# ===================== Write Your Code Here =====================\u001b[0m\u001b[1;33m\u001b[0m\u001b[1;33m\u001b[0m\u001b[0m\n\u001b[0;32m     20\u001b[0m \u001b[0mprice\u001b[0m \u001b[1;33m=\u001b[0m \u001b[1;36m0\u001b[0m  \u001b[1;31m# You should change this\u001b[0m\u001b[1;33m\u001b[0m\u001b[1;33m\u001b[0m\u001b[0m\n\u001b[1;32m---> 21\u001b[1;33m \u001b[0mpredict\u001b[0m \u001b[1;33m=\u001b[0m \u001b[0mnp\u001b[0m\u001b[1;33m.\u001b[0m\u001b[0mdot\u001b[0m\u001b[1;33m(\u001b[0m\u001b[0mnp\u001b[0m\u001b[1;33m.\u001b[0m\u001b[0marray\u001b[0m\u001b[1;33m(\u001b[0m\u001b[1;33m[\u001b[0m\u001b[1;36m1\u001b[0m\u001b[1;33m,\u001b[0m \u001b[1;36m1650\u001b[0m\u001b[1;33m]\u001b[0m\u001b[1;33m)\u001b[0m\u001b[1;33m,\u001b[0m \u001b[0mtheta\u001b[0m\u001b[1;33m)\u001b[0m\u001b[1;31m# Write Your Code\u001b[0m\u001b[1;33m\u001b[0m\u001b[1;33m\u001b[0m\u001b[0m\n\u001b[0m\u001b[0;32m     22\u001b[0m \u001b[0mprice2\u001b[0m \u001b[1;33m=\u001b[0m\u001b[0mprice\u001b[0m\u001b[1;33m*\u001b[0m\u001b[0mpredict\u001b[0m \u001b[1;31m# Write Your Code\u001b[0m\u001b[1;33m\u001b[0m\u001b[1;33m\u001b[0m\u001b[0m\n",
      "\u001b[1;32m<__array_function__ internals>\u001b[0m in \u001b[0;36mdot\u001b[1;34m(*args, **kwargs)\u001b[0m\n",
      "\u001b[1;31mValueError\u001b[0m: shapes (2,) and (3,) not aligned: 2 (dim 0) != 3 (dim 0)"
     ]
    }
   ],
   "source": [
    "print('Solving with normal equations ...')\n",
    "\n",
    "# Load data\n",
    "data = np.loadtxt('ex1data2.txt', delimiter=',', dtype=np.int64)\n",
    "X = data[:, 0:2]\n",
    "y = data[:, 2]\n",
    "m = y.size\n",
    "n\n",
    "# Add intercept term to X\n",
    "X = np.c_[np.ones(m), X]\n",
    "\n",
    "theta = normal_eqn(X, y)\n",
    "\n",
    "# Display normal equation's result\n",
    "print('Theta computed from the normal equations : \\n{}'.format(theta))\n",
    "\n",
    "\n",
    "# Estimate the price of a 1650 sq-ft, 3 br house\n",
    "# ===================== Write Your Code Here =====================\n",
    "price = 0  # You should change this\n",
    "predict = np.dot(np.array([1, 1650]), theta)# Write Your Code\n",
    "price2 =price*predict # Write Your Code"
   ]
  },
  {
   "cell_type": "code",
   "execution_count": null,
   "id": "185c2dc0",
   "metadata": {},
   "outputs": [],
   "source": [
    "print(f\"Jadi harga prediksi rumah adalah ${round(price)}\")"
   ]
  },
  {
   "cell_type": "markdown",
   "id": "a903f200",
   "metadata": {},
   "source": [
    "<center><h1>The End</h1></center>"
   ]
  }
 ],
 "metadata": {
  "kernelspec": {
   "display_name": "Python 3 (ipykernel)",
   "language": "python",
   "name": "python3"
  },
  "language_info": {
   "codemirror_mode": {
    "name": "ipython",
    "version": 3
   },
   "file_extension": ".py",
   "mimetype": "text/x-python",
   "name": "python",
   "nbconvert_exporter": "python",
   "pygments_lexer": "ipython3",
   "version": "3.9.13"
  }
 },
 "nbformat": 4,
 "nbformat_minor": 5
}
